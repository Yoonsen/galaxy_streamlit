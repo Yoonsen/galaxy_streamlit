{
 "cells": [
  {
   "cell_type": "code",
   "execution_count": 2,
   "metadata": {},
   "outputs": [],
   "source": [
    "import dhlab.module_update as mu"
   ]
  },
  {
   "cell_type": "code",
   "execution_count": 4,
   "metadata": {},
   "outputs": [],
   "source": [
    "import gnl as gnl"
   ]
  },
  {
   "cell_type": "code",
   "execution_count": 6,
   "metadata": {},
   "outputs": [],
   "source": [
    "g = gnl.make_graph('demokrati')"
   ]
  },
  {
   "cell_type": "code",
   "execution_count": 10,
   "metadata": {},
   "outputs": [
    {
     "data": {
      "text/plain": [
       "{'demokrati-frihet': ['demokrati',\n",
       "  'frihet',\n",
       "  'rettssikkerhet',\n",
       "  'menneskerettigheter',\n",
       "  'ytringsfrihet',\n",
       "  'folkestyre',\n",
       "  'menneskeverd',\n",
       "  'likebehandling',\n",
       "  'menneskerettar',\n",
       "  'trygghet',\n",
       "  'personvern',\n",
       "  'rettsstat',\n",
       "  'ansvar',\n",
       "  'selvstendighet',\n",
       "  'religionsfrihet',\n",
       "  'lojalitetsplikt',\n",
       "  'Effektivitet',\n",
       "  'ytringsfridom',\n",
       "  'forfatning',\n",
       "  'miljø',\n",
       "  'pressefrihet',\n",
       "  'uavhengighet',\n",
       "  'trosfrihet',\n",
       "  'integritet',\n",
       "  'humanitet',\n",
       "  'folkerett',\n",
       "  'korporativ',\n",
       "  'Fascisme',\n",
       "  'Aksjoner',\n",
       "  'teknokrati'],\n",
       " 'fred-fridom': ['fred',\n",
       "  'fridom',\n",
       "  'rettferd',\n",
       "  'ro',\n",
       "  'avspenning',\n",
       "  'krig',\n",
       "  'forsoning',\n",
       "  'nedrustning',\n",
       "  'sikkerhet'],\n",
       " 'sosialisme-diktatur': ['sosialisme',\n",
       "  'diktatur',\n",
       "  'markedsøkonomi',\n",
       "  'Demokrati',\n",
       "  'kapitalisme',\n",
       "  'revolusjon',\n",
       "  'kommunisme',\n",
       "  'planøkonomi',\n",
       "  'privatisering',\n",
       "  'liberalisme',\n",
       "  'tvang',\n",
       "  'konservatisme',\n",
       "  'terror',\n",
       "  'ensretting',\n",
       "  'Empirisme',\n",
       "  'kristendom'],\n",
       " 'medbestemmelse-deltakelse': ['medbestemmelse',\n",
       "  'deltakelse',\n",
       "  'medvirkning',\n",
       "  'innflytelse',\n",
       "  'Makt',\n",
       "  'medinnflytelse',\n",
       "  'medansvar',\n",
       "  'selvbestemmelse',\n",
       "  'involvering',\n",
       "  'bedriftsdemokrati',\n",
       "  'påvirkning'],\n",
       " 'åpenhet-innsyn': ['åpenhet',\n",
       "  'innsyn',\n",
       "  'ærlighet',\n",
       "  'Hemmelighold',\n",
       "  'ryddighet',\n",
       "  'tillit',\n",
       "  'offentlighet',\n",
       "  'lojalitet'],\n",
       " 'rettferdighet-likeverd': ['rettferdighet',\n",
       "  'likeverd',\n",
       "  'solidaritet',\n",
       "  'likestilling',\n",
       "  'toleranse',\n",
       "  'respekt',\n",
       "  'likhet',\n",
       "  'mangfold',\n",
       "  'inkludering',\n",
       "  'selvhjelp',\n",
       "  'hellighet',\n",
       "  'sivilsamfunn',\n",
       "  'godhet',\n",
       "  'rimelighet',\n",
       "  'gjensidig',\n",
       "  'sannhet',\n",
       "  'Velferdsstat']}"
      ]
     },
     "execution_count": 10,
     "metadata": {},
     "output_type": "execute_result"
    }
   ],
   "source": [
    "gnl.community_dict(g)"
   ]
  },
  {
   "cell_type": "code",
   "execution_count": 11,
   "metadata": {},
   "outputs": [],
   "source": [
    "cliques = gnl.kcliques(g.to_undirected())"
   ]
  },
  {
   "cell_type": "code",
   "execution_count": 17,
   "metadata": {},
   "outputs": [
    {
     "data": {
      "text/plain": [
       "{(3, 1): frozenset({'Demokrati',\n",
       "            'Effektivitet',\n",
       "            'demokrati',\n",
       "            'diktatur',\n",
       "            'folkestyre',\n",
       "            'fred',\n",
       "            'fridom',\n",
       "            'frihet',\n",
       "            'humanitet',\n",
       "            'integritet',\n",
       "            'kommunisme',\n",
       "            'likebehandling',\n",
       "            'likestilling',\n",
       "            'likeverd',\n",
       "            'likhet',\n",
       "            'markedsøkonomi',\n",
       "            'menneskerettar',\n",
       "            'menneskerettigheter',\n",
       "            'menneskeverd',\n",
       "            'personvern',\n",
       "            'religionsfrihet',\n",
       "            'rettferd',\n",
       "            'rettferdighet',\n",
       "            'rettssikkerhet',\n",
       "            'rettsstat',\n",
       "            'revolusjon',\n",
       "            'selvstendighet',\n",
       "            'sikkerhet',\n",
       "            'solidaritet',\n",
       "            'sosialisme',\n",
       "            'toleranse',\n",
       "            'trygghet',\n",
       "            'ytringsfrihet'}),\n",
       " (3, 2): frozenset({'deltakelse',\n",
       "            'demokrati',\n",
       "            'innflytelse',\n",
       "            'medbestemmelse',\n",
       "            'medinnflytelse',\n",
       "            'medvirkning',\n",
       "            'påvirkning'}),\n",
       " (4, 1): frozenset({'demokrati',\n",
       "            'folkestyre',\n",
       "            'fred',\n",
       "            'frihet',\n",
       "            'likebehandling',\n",
       "            'likeverd',\n",
       "            'likhet',\n",
       "            'menneskerettigheter',\n",
       "            'menneskeverd',\n",
       "            'rettferdighet',\n",
       "            'rettssikkerhet',\n",
       "            'sosialisme',\n",
       "            'trygghet',\n",
       "            'ytringsfrihet'}),\n",
       " (5, 1): frozenset({'demokrati',\n",
       "            'fred',\n",
       "            'frihet',\n",
       "            'likeverd',\n",
       "            'menneskerettigheter',\n",
       "            'menneskeverd',\n",
       "            'rettferdighet',\n",
       "            'rettssikkerhet'})}"
      ]
     },
     "execution_count": 17,
     "metadata": {},
     "output_type": "execute_result"
    }
   ],
   "source": [
    "cliques"
   ]
  },
  {
   "cell_type": "code",
   "execution_count": 15,
   "metadata": {},
   "outputs": [
    {
     "name": "stdout",
     "output_type": "stream",
     "text": [
      "(3, 1)\n",
      "(3, 2)\n",
      "(4, 1)\n",
      "(5, 1)\n"
     ]
    }
   ],
   "source": [
    "for x in cliques:\n",
    "    print(x)"
   ]
  },
  {
   "cell_type": "code",
   "execution_count": 24,
   "metadata": {},
   "outputs": [
    {
     "data": {
      "text/plain": [
       "dict_values([frozenset({'personvern', 'Demokrati', 'frihet', 'ytringsfrihet', 'demokrati', 'menneskerettigheter', 'selvstendighet', 'trygghet', 'toleranse', 'solidaritet', 'kommunisme', 'rettferdighet', 'markedsøkonomi', 'likebehandling', 'likestilling', 'likeverd', 'menneskeverd', 'rettssikkerhet', 'revolusjon', 'fridom', 'folkestyre', 'rettferd', 'religionsfrihet', 'rettsstat', 'integritet', 'humanitet', 'diktatur', 'fred', 'sosialisme', 'sikkerhet', 'likhet', 'menneskerettar', 'Effektivitet'}), frozenset({'medinnflytelse', 'medvirkning', 'innflytelse', 'deltakelse', 'demokrati', 'medbestemmelse', 'påvirkning'}), frozenset({'menneskeverd', 'rettssikkerhet', 'folkestyre', 'frihet', 'ytringsfrihet', 'demokrati', 'menneskerettigheter', 'trygghet', 'likhet', 'likebehandling', 'rettferdighet', 'fred', 'sosialisme', 'likeverd'}), frozenset({'menneskeverd', 'rettssikkerhet', 'frihet', 'demokrati', 'menneskerettigheter', 'rettferdighet', 'fred', 'likeverd'})])"
      ]
     },
     "execution_count": 24,
     "metadata": {},
     "output_type": "execute_result"
    }
   ],
   "source": [
    "cliques.values()"
   ]
  },
  {
   "cell_type": "code",
   "execution_count": 40,
   "metadata": {},
   "outputs": [
    {
     "name": "stdout",
     "output_type": "stream",
     "text": [
      "3-1: personvern, Demokrati, frihet, ytringsfrihet, demokrati, menneskerettigheter, selvstendighet, trygghet, toleranse, solidaritet, kommunisme, rettferdighet, markedsøkonomi, likebehandling, likestilling, likeverd, menneskeverd, rettssikkerhet, revolusjon, fridom, folkestyre, rettferd, religionsfrihet, rettsstat, integritet, humanitet, diktatur, fred, sosialisme, sikkerhet, likhet, menneskerettar, Effektivitet\n",
      "\n",
      "3-2: medinnflytelse, medvirkning, innflytelse, deltakelse, demokrati, medbestemmelse, påvirkning\n",
      "\n",
      "4-1: menneskeverd, rettssikkerhet, folkestyre, frihet, ytringsfrihet, demokrati, menneskerettigheter, trygghet, likhet, likebehandling, rettferdighet, fred, sosialisme, likeverd\n",
      "\n",
      "5-1: menneskeverd, rettssikkerhet, frihet, demokrati, menneskerettigheter, rettferdighet, fred, likeverd\n"
     ]
    }
   ],
   "source": [
    "print('\\n\\n'.join([\"{a}: {b}\".format(a = '-'.join([str(x) for x in key]), b = ', '.join(cliques[key])) for key in cliques]))"
   ]
  }
 ],
 "metadata": {
  "kernelspec": {
   "display_name": "Python 3",
   "language": "python",
   "name": "python3"
  },
  "language_info": {
   "codemirror_mode": {
    "name": "ipython",
    "version": 3
   },
   "file_extension": ".py",
   "mimetype": "text/x-python",
   "name": "python",
   "nbconvert_exporter": "python",
   "pygments_lexer": "ipython3",
   "version": "3.8.3"
  }
 },
 "nbformat": 4,
 "nbformat_minor": 4
}
